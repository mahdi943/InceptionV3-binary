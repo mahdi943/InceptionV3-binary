{
  "cells": [
    {
      "cell_type": "markdown",
      "metadata": {
        "id": "view-in-github",
        "colab_type": "text"
      },
      "source": [
        "<a href=\"https://colab.research.google.com/github/mahdi943/InceptionV3-binary/blob/master/Acc-75_class4_Training_brain.ipynb\" target=\"_parent\"><img src=\"https://colab.research.google.com/assets/colab-badge.svg\" alt=\"Open In Colab\"/></a>"
      ]
    },
    {
      "cell_type": "code",
      "execution_count": null,
      "metadata": {
        "id": "k_uBeZBxiUbO"
      },
      "outputs": [],
      "source": [
        "import pandas as pd\n",
        "import numpy as np\n",
        "import tensorflow as tf\n",
        "import seaborn as sns\n",
        "import matplotlib.pyplot as plt\n",
        "import scipy.io\n",
        "from numpy import random\n",
        "\n",
        "import keras\n",
        "from keras import layers\n",
        "from keras.layers import Input, Dense, Conv2D, MaxPooling2D, BatchNormalization,Activation, Flatten, GlobalAveragePooling2D, SeparableConv2D\n",
        "from keras.models import Model\n",
        "\n",
        "from keras.preprocessing import image\n",
        "from keras.utils import layer_utils\n",
        "from keras.layers import Dropout\n",
        "from keras.regularizers import l2\n",
        "from keras.regularizers import l1\n",
        "np.random.seed(5)\n",
        "from sklearn.model_selection import train_test_split\n",
        "from keras.preprocessing.image import ImageDataGenerator\n",
        "import cv2\n",
        "import os\n",
        "from keras.utils.np_utils import to_categorical\n",
        "from PIL import Image\n",
        "from keras.preprocessing.image import load_img,img_to_array,array_to_img,save_img"
      ]
    },
    {
      "cell_type": "code",
      "source": [
        "from google.colab import drive\n",
        "drive.mount('/content/drive')"
      ],
      "metadata": {
        "colab": {
          "base_uri": "https://localhost:8080/"
        },
        "id": "_K4N35WCkc2j",
        "outputId": "650c6618-fd9e-4388-ed3f-5f2ce7a1c423"
      },
      "execution_count": null,
      "outputs": [
        {
          "output_type": "stream",
          "name": "stdout",
          "text": [
            "Drive already mounted at /content/drive; to attempt to forcibly remount, call drive.mount(\"/content/drive\", force_remount=True).\n"
          ]
        }
      ]
    },
    {
      "cell_type": "code",
      "execution_count": null,
      "metadata": {
        "id": "oKqiU33HZuOR"
      },
      "outputs": [],
      "source": [
        "!unzip \"/content/drive/MyDrive/project/dataset/Train.zip\"\n",
        "!unzip \"/content/drive/MyDrive/project/dataset/Test.zip\"\n",
        "!unzip \"/content/drive/MyDrive/project/dataset/Valid.zip\""
      ]
    },
    {
      "cell_type": "code",
      "execution_count": null,
      "metadata": {
        "id": "GAKZ1p1BZuOR"
      },
      "outputs": [],
      "source": [
        "y_col = ['Class0', 'Class1']"
      ]
    },
    {
      "cell_type": "code",
      "source": [
        "from keras.applications import inception_v3\n",
        "from keras.applications.inception_v3 import InceptionV3\n",
        "\n",
        "base_model = InceptionV3(weights = 'imagenet', include_top = False, input_shape=(500, 500, 3))\n",
        "base_model.layers.pop()\n",
        "base_model.layers.pop()\n",
        "base_model.layers.pop()\n",
        "base_model.layers.pop()\n",
        "for layer in base_model.layers:\n",
        "  layer.trainable = False\n",
        "# base_model.summary()"
      ],
      "metadata": {
        "id": "HLp-guc6dZOI"
      },
      "execution_count": null,
      "outputs": []
    },
    {
      "cell_type": "code",
      "execution_count": null,
      "metadata": {
        "id": "F4KvPonulG7_"
      },
      "outputs": [],
      "source": [
        "def brain_model(base_model, img_shape = (500,500,3)):\n",
        "    \n",
        "    \n",
        "    # create the input layer (Same as the imageNetv2 input size)\n",
        "    inputs = tf.keras.Input(shape=img_shape) \n",
        "    \n",
        "    # Forward pass to get the output of the last pooling layer\n",
        "    X = base_model(inputs)\n",
        "    #X = Dropout(.5, img_shape)(X)\n",
        "    X = GlobalAveragePooling2D()(X)\n",
        "    X = Dropout(.25)(X)\n",
        "    # Define the new binary classification head \n",
        "    X = Dense(1024, activation='relu', name='fc1')(X)\n",
        "    X = Dropout(.5)(X)\n",
        "    X = Dense(512, activation='relu', name='fc2')(X)\n",
        "    X = Dropout(.25)(X)\n",
        "    X = Dense(256, activation='relu', name='fc3')(X)\n",
        "    X = Dropout(.5)(X)\n",
        "    X = Dense(128, activation='relu', name='fc4')(X)\n",
        "    X = Dropout(.25)(X)\n",
        "    X = Dense(64, activation='relu', name='fc5')(X)\n",
        "    X = Dropout(.5)(X)\n",
        "        \n",
        "    outputs = Dense(2,activation='softmax', name='predictions')(X)\n",
        "    model = tf.keras.Model(inputs, outputs)\n",
        "    \n",
        "    return model"
      ]
    },
    {
      "cell_type": "code",
      "execution_count": null,
      "metadata": {
        "id": "h6j8oCK-sPeN"
      },
      "outputs": [],
      "source": [
        "\n",
        "model1 = brain_model (base_model, img_shape = (500,500,3))\n",
        "model2 = brain_model (base_model, img_shape = (500,500,3))\n",
        "model3 = brain_model (base_model, img_shape = (500,500,3))"
      ]
    },
    {
      "cell_type": "code",
      "execution_count": null,
      "metadata": {
        "id": "XYzQ87QARfam",
        "outputId": "a0052963-6606-47d6-ad60-fcfda34eab93",
        "colab": {
          "base_uri": "https://localhost:8080/"
        }
      },
      "outputs": [
        {
          "output_type": "stream",
          "name": "stdout",
          "text": [
            "Found 256 validated image filenames.\n",
            "Found 64 validated image filenames.\n"
          ]
        },
        {
          "output_type": "stream",
          "name": "stderr",
          "text": [
            "/usr/local/lib/python3.7/dist-packages/keras/optimizer_v2/adam.py:105: UserWarning: The `lr` argument is deprecated, use `learning_rate` instead.\n",
            "  super(Adam, self).__init__(name, **kwargs)\n"
          ]
        },
        {
          "output_type": "stream",
          "name": "stdout",
          "text": [
            "Epoch 1/10\n",
            "16/16 [==============================] - 24s 1s/step - loss: 1.0310 - accuracy: 0.6172 - val_loss: 0.5766 - val_accuracy: 0.7500\n",
            "Epoch 2/10\n",
            "16/16 [==============================] - 17s 1s/step - loss: 0.7638 - accuracy: 0.6328 - val_loss: 0.6178 - val_accuracy: 0.7500\n",
            "Epoch 3/10\n",
            "16/16 [==============================] - 17s 1s/step - loss: 0.6781 - accuracy: 0.7305 - val_loss: 0.5495 - val_accuracy: 0.7500\n",
            "Epoch 4/10\n",
            "16/16 [==============================] - 16s 1s/step - loss: 0.6343 - accuracy: 0.6836 - val_loss: 0.5339 - val_accuracy: 0.7500\n",
            "Epoch 5/10\n",
            "16/16 [==============================] - 16s 1s/step - loss: 0.6245 - accuracy: 0.7148 - val_loss: 0.5623 - val_accuracy: 0.7500\n",
            "Epoch 6/10\n",
            "16/16 [==============================] - 16s 1s/step - loss: 0.5288 - accuracy: 0.7656 - val_loss: 0.4809 - val_accuracy: 0.9219\n",
            "Epoch 7/10\n",
            "16/16 [==============================] - 16s 1s/step - loss: 0.4608 - accuracy: 0.7539 - val_loss: 0.3089 - val_accuracy: 0.9219\n",
            "Epoch 8/10\n",
            "16/16 [==============================] - 18s 1s/step - loss: 0.4427 - accuracy: 0.7695 - val_loss: 0.1891 - val_accuracy: 0.9375\n",
            "Epoch 9/10\n",
            "16/16 [==============================] - 16s 1s/step - loss: 0.2046 - accuracy: 0.9062 - val_loss: 0.1171 - val_accuracy: 0.9688\n",
            "Epoch 10/10\n",
            "16/16 [==============================] - 16s 1s/step - loss: 0.1778 - accuracy: 0.9062 - val_loss: 0.0430 - val_accuracy: 0.9844\n"
          ]
        }
      ],
      "source": [
        "data = pd.read_csv('/content/drive/MyDrive/Colab Notebooks/CS515 - project/dataset/dataset/labelTrain1.csv') \n",
        "data1 = pd.read_csv('/content/drive/MyDrive/Colab Notebooks/CS515 - project/dataset/dataset/labelValid1.csv')\n",
        "data2 = pd.read_csv('/content/drive/MyDrive/Colab Notebooks/CS515 - project/dataset/dataset/labelTest1.csv')\n",
        "data3 = pd.read_csv('/content/drive/MyDrive/Colab Notebooks/CS515 - project/dataset/dataset/labelTestfinal.csv')\n",
        "\n",
        "\n",
        "batch_size = 16\n",
        "\n",
        "data_path = \"/content/Train\" \n",
        "\n",
        "#shuffle the data\n",
        "data = data.sample(frac=1)\n",
        "data.reset_index(drop = True, inplace = True)\n",
        "train_aug = ImageDataGenerator(\trescale=1/255.0,\t\n",
        "                               rotation_range=20,\t\n",
        "                               zoom_range=0.05,\t\n",
        "                               width_shift_range=0.1,\t\n",
        "                               height_shift_range=0.1,\t\n",
        "                               shear_range=0.05,\t\n",
        "                               horizontal_flip=True,\t\n",
        "                               vertical_flip=True,\t\n",
        "                               fill_mode=\"nearest\"\n",
        "                               )\n",
        "\n",
        "\n",
        "valid_datagen = ImageDataGenerator(rescale=1./255)\n",
        "test_aug = ImageDataGenerator(rescale=1./255)\n",
        "\n",
        "train_generator = train_aug.flow_from_dataframe(\n",
        "    dataframe=data,\n",
        "    directory=data_path,\n",
        "    x_col='Image',\n",
        "    y_col= y_col,\n",
        "    class_mode=\"raw\",\n",
        "    shuffle=True,\n",
        "    target_size=(500,500), \n",
        "    batch_size=batch_size)\n",
        "\n",
        "valid_generator = test_aug.flow_from_dataframe(\n",
        "    dataframe=data1,\n",
        "    directory=\"/content/Valid\",\n",
        "    x_col='Image',\n",
        "    y_col= y_col,\n",
        "    class_mode= \"raw\",\n",
        "    target_size=(500,500),\n",
        "    batch_size=batch_size\n",
        ")\n",
        "\n",
        "callback = tf.keras.callbacks.EarlyStopping(monitor='loss', patience=5)\n",
        "optimizer = tf.keras.optimizers.Adam(lr=0.001)\n",
        "model1.compile(optimizer=optimizer, loss='categorical_crossentropy', metrics=['accuracy'])\n",
        "history = model1.fit(train_generator, batch_size= 16 ,epochs=10, validation_data = valid_generator, callbacks= callback)\n"
      ]
    },
    {
      "cell_type": "code",
      "source": [
        "data = pd.read_csv('/content/drive/MyDrive/Colab Notebooks/CS515 - project/dataset/dataset-class2/labelTrain-class2.csv') \n",
        "data1 = pd.read_csv('/content/drive/MyDrive/Colab Notebooks/CS515 - project/dataset/dataset-class2/labelValid-class2.csv')\n",
        "data2 = pd.read_csv('/content/drive/MyDrive/Colab Notebooks/CS515 - project/dataset/dataset-class2/labelTest-class2.csv')\n",
        "data3 = pd.read_csv('/content/drive/MyDrive/Colab Notebooks/CS515 - project/dataset/dataset-class2/labelTestfinal-class2.csv')\n",
        "\n",
        "\n",
        "batch_size = 16\n",
        "\n",
        "data_path = \"/content/Train\" \n",
        "\n",
        "#shuffle the data\n",
        "data = data.sample(frac=1)\n",
        "data.reset_index(drop = True, inplace = True)\n",
        "train_aug = ImageDataGenerator(\trescale=1/255.0,\t\n",
        "                               rotation_range=20,\t\n",
        "                               zoom_range=0.05,\t\n",
        "                               width_shift_range=0.1,\t\n",
        "                               height_shift_range=0.1,\t\n",
        "                               shear_range=0.05,\t\n",
        "                               horizontal_flip=True,\t\n",
        "                               vertical_flip=True,\t\n",
        "                               fill_mode=\"nearest\"\n",
        "                               )\n",
        "\n",
        "\n",
        "valid_datagen = ImageDataGenerator(rescale=1./255)\n",
        "test_aug = ImageDataGenerator(rescale=1./255)\n",
        "\n",
        "train_generator = train_aug.flow_from_dataframe(\n",
        "    dataframe=data,\n",
        "    directory=data_path,\n",
        "    x_col='Image',\n",
        "    y_col= y_col,\n",
        "    class_mode=\"raw\",\n",
        "    shuffle=True,\n",
        "    target_size=(500,500), \n",
        "    batch_size=batch_size)\n",
        "\n",
        "valid_generator = test_aug.flow_from_dataframe(\n",
        "    dataframe=data1,\n",
        "    directory=\"/content/Valid\",\n",
        "    x_col='Image',\n",
        "    y_col= y_col,\n",
        "    class_mode= \"raw\",\n",
        "    target_size=(500,500),\n",
        "    batch_size=batch_size\n",
        ")\n",
        "\n",
        "callback = tf.keras.callbacks.EarlyStopping(monitor='loss', patience=5)\n",
        "optimizer = tf.keras.optimizers.Adam(lr=0.001)\n",
        "model2.compile(optimizer=optimizer, loss='categorical_crossentropy', metrics=['accuracy'])\n",
        "history = model2.fit(train_generator, batch_size= 16 ,epochs=10, validation_data = valid_generator, callbacks= callback)\n"
      ],
      "metadata": {
        "id": "IFN-KofL5eWb"
      },
      "execution_count": null,
      "outputs": []
    },
    {
      "cell_type": "code",
      "source": [
        "data = pd.read_csv('/content/drive/MyDrive/Colab Notebooks/CS515 - project/dataset/dataset-class3/labelTrain-class3.csv') \n",
        "data1 = pd.read_csv('/content/drive/MyDrive/Colab Notebooks/CS515 - project/dataset/dataset-class3/labelValid-class3.csv')\n",
        "data2 = pd.read_csv('/content/drive/MyDrive/Colab Notebooks/CS515 - project/dataset/dataset-class3/labelTest-class3.csv')\n",
        "data3 = pd.read_csv('/content/drive/MyDrive/Colab Notebooks/CS515 - project/dataset/dataset-class3/labelTestfinal-class3.csv')\n",
        "\n",
        "\n",
        "batch_size = 16\n",
        "\n",
        "data_path = \"/content/Train\" \n",
        "\n",
        "#shuffle the data\n",
        "data = data.sample(frac=1)\n",
        "data.reset_index(drop = True, inplace = True)\n",
        "train_aug = ImageDataGenerator(\trescale=1/255.0,\t\n",
        "                               rotation_range=20,\t\n",
        "                               zoom_range=0.05,\t\n",
        "                               width_shift_range=0.1,\t\n",
        "                               height_shift_range=0.1,\t\n",
        "                               shear_range=0.05,\t\n",
        "                               horizontal_flip=True,\t\n",
        "                               vertical_flip=True,\t\n",
        "                               fill_mode=\"nearest\"\n",
        "                               )\n",
        "\n",
        "\n",
        "valid_datagen = ImageDataGenerator(rescale=1./255)\n",
        "test_aug = ImageDataGenerator(rescale=1./255)\n",
        "\n",
        "train_generator = train_aug.flow_from_dataframe(\n",
        "    dataframe=data,\n",
        "    directory=data_path,\n",
        "    x_col='Image',\n",
        "    y_col= y_col,\n",
        "    class_mode=\"raw\",\n",
        "    shuffle=True,\n",
        "    target_size=(500,500), \n",
        "    batch_size=batch_size)\n",
        "\n",
        "valid_generator = test_aug.flow_from_dataframe(\n",
        "    dataframe=data1,\n",
        "    directory=\"/content/Valid\",\n",
        "    x_col='Image',\n",
        "    y_col= y_col,\n",
        "    class_mode= \"raw\",\n",
        "    target_size=(500,500),\n",
        "    batch_size=batch_size\n",
        ")\n",
        "\n",
        "callback = tf.keras.callbacks.EarlyStopping(monitor='loss', patience=5)\n",
        "optimizer = tf.keras.optimizers.Adam(lr=0.001)\n",
        "model3.compile(optimizer=optimizer, loss='categorical_crossentropy', metrics=['accuracy'])\n",
        "history = model3.fit(train_generator, batch_size= 16 ,epochs=20, validation_data = valid_generator, callbacks= callback)\n"
      ],
      "metadata": {
        "id": "ynDxuA9r5w5P"
      },
      "execution_count": null,
      "outputs": []
    },
    {
      "cell_type": "code",
      "source": [
        "if model1.predict == 1:\n",
        "  # do somthing\n",
        "  x = 1\n",
        "elif model2.predict == 1:\n",
        "  # do somthing\n",
        "  x = 2\n",
        "elif model3.predict == 1:\n",
        "  # do somthing\n",
        "  x = 3\n",
        "else:\n",
        "  # do somthing\n",
        "  x = 4\n",
        "\n"
      ],
      "metadata": {
        "id": "FooB3vkv188K"
      },
      "execution_count": null,
      "outputs": []
    },
    {
      "cell_type": "code",
      "execution_count": null,
      "metadata": {
        "id": "xxo2z6CYZuOT",
        "outputId": "c8a683e5-5f3c-4ca6-ee72-cf1cf4763383",
        "colab": {
          "base_uri": "https://localhost:8080/"
        }
      },
      "outputs": [
        {
          "output_type": "stream",
          "name": "stdout",
          "text": [
            "Found 80 validated image filenames.\n"
          ]
        }
      ],
      "source": [
        "test_generator = test_aug.flow_from_dataframe(\n",
        "    dataframe=data2,\n",
        "    directory=\"/content/Test\",\n",
        "    x_col='Image',\n",
        "    y_col= y_col,\n",
        "    shuffle=True,\n",
        "    class_mode= \"raw\",\n",
        "    target_size=(500,500),\n",
        "    batch_size=batch_size\n",
        ")"
      ]
    },
    {
      "cell_type": "code",
      "source": [
        "y_predict = model1.predict(test_generator)\n",
        "print(type(y_predict))\n"
      ],
      "metadata": {
        "colab": {
          "base_uri": "https://localhost:8080/"
        },
        "id": "fHLOfpbW7Inu",
        "outputId": "75a626b8-3aa2-463c-e844-5144afb7e10f"
      },
      "execution_count": null,
      "outputs": [
        {
          "output_type": "stream",
          "name": "stdout",
          "text": [
            "<class 'numpy.ndarray'>\n"
          ]
        }
      ]
    },
    {
      "cell_type": "code",
      "execution_count": null,
      "metadata": {
        "id": "pLo9rnpzZuOU",
        "outputId": "88b089fd-bd5d-42b5-d9a8-7612abb14fe1",
        "colab": {
          "base_uri": "https://localhost:8080/"
        }
      },
      "outputs": [
        {
          "output_type": "execute_result",
          "data": {
            "text/plain": [
              "0.6625"
            ]
          },
          "metadata": {},
          "execution_count": 52
        }
      ],
      "source": [
        "from sklearn.metrics import accuracy_score\n",
        "from sklearn import metrics\n",
        "\n",
        "y_predict = model1.predict(test_generator)\n",
        "\n",
        "y_predict = y_predict.argmax(-1)\n",
        "accuracy_score(data3['label'],y_predict)\n",
        "    \n"
      ]
    },
    {
      "cell_type": "code",
      "execution_count": null,
      "metadata": {
        "id": "tmEvkNzrZuOU"
      },
      "outputs": [],
      "source": [
        "# plt.plot(history.history['loss'])\n",
        "# plt.title('model loss')\n",
        "# plt.ylabel('accuracy')\n",
        "# plt.xlabel('epoch')\n",
        "# plt.show()"
      ]
    },
    {
      "cell_type": "code",
      "execution_count": null,
      "metadata": {
        "id": "I2EBxm55ZuOU"
      },
      "outputs": [],
      "source": [
        "# plt.plot(history.history['accuracy'])\n",
        "# plt.title('model accuracy')\n",
        "# plt.ylabel('accuracy')\n",
        "# plt.xlabel('epoch')\n",
        "# plt.show()"
      ]
    }
  ],
  "metadata": {
    "colab": {
      "collapsed_sections": [],
      "name": "Acc75-class4-Training_brain.ipynb",
      "provenance": [],
      "include_colab_link": true
    },
    "kernelspec": {
      "display_name": "Python 3",
      "name": "python3"
    },
    "language_info": {
      "codemirror_mode": {
        "name": "ipython",
        "version": 3
      },
      "file_extension": ".py",
      "mimetype": "text/x-python",
      "name": "python",
      "nbconvert_exporter": "python",
      "pygments_lexer": "ipython3",
      "version": "3.8.13"
    },
    "accelerator": "GPU"
  },
  "nbformat": 4,
  "nbformat_minor": 0
}