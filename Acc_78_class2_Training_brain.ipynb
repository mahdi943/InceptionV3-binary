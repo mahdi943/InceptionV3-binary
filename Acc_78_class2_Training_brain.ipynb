{
  "cells": [
    {
      "cell_type": "markdown",
      "metadata": {
        "id": "view-in-github",
        "colab_type": "text"
      },
      "source": [
        "<a href=\"https://colab.research.google.com/github/mahdi943/InceptionV3-binary/blob/master/Acc_78_class2_Training_brain.ipynb\" target=\"_parent\"><img src=\"https://colab.research.google.com/assets/colab-badge.svg\" alt=\"Open In Colab\"/></a>"
      ]
    },
    {
      "cell_type": "code",
      "execution_count": null,
      "metadata": {
        "id": "k_uBeZBxiUbO"
      },
      "outputs": [],
      "source": [
        "import pandas as pd\n",
        "import numpy as np\n",
        "import tensorflow as tf\n",
        "import seaborn as sns\n",
        "import matplotlib.pyplot as plt\n",
        "import scipy.io\n",
        "from numpy import random\n",
        "\n",
        "import keras\n",
        "from keras import layers\n",
        "from keras.layers import Input, Dense, Conv2D, MaxPooling2D, BatchNormalization,Activation, Flatten, GlobalAveragePooling2D, SeparableConv2D\n",
        "from keras.models import Model\n",
        "\n",
        "from keras.preprocessing import image\n",
        "from keras.utils import layer_utils\n",
        "from keras.layers import Dropout\n",
        "from keras.regularizers import l2\n",
        "from keras.regularizers import l1\n",
        "np.random.seed(5)\n",
        "from sklearn.model_selection import train_test_split\n",
        "from keras.preprocessing.image import ImageDataGenerator\n",
        "import cv2\n",
        "import os\n",
        "from keras.utils.np_utils import to_categorical\n",
        "from PIL import Image\n",
        "from keras.preprocessing.image import load_img,img_to_array,array_to_img,save_img"
      ]
    },
    {
      "cell_type": "code",
      "execution_count": null,
      "metadata": {
        "id": "3pTM1VZGZuOQ"
      },
      "outputs": [],
      "source": [
        "data = pd.read_csv('/content/drive/MyDrive/project/dataset-class2/labelTrain-class2.csv') \n",
        "data1 = pd.read_csv('/content/drive/MyDrive/project/dataset-class2/labelValid-class2.csv')\n",
        "data2 = pd.read_csv('/content/drive/MyDrive/project/dataset-class2/labelTest-class2.csv')\n",
        "data3 = pd.read_csv('/content/drive/MyDrive/project/dataset-class2/labelTestfinal-class2.csv')\n"
      ]
    },
    {
      "cell_type": "code",
      "execution_count": null,
      "metadata": {
        "id": "oKqiU33HZuOR"
      },
      "outputs": [],
      "source": [
        "!unzip \"/content/drive/MyDrive/project/dataset/Train.zip\"\n",
        "!unzip \"/content/drive/MyDrive/project/dataset/Test.zip\"\n",
        "!unzip \"/content/drive/MyDrive/project/dataset/Valid.zip\""
      ]
    },
    {
      "cell_type": "code",
      "execution_count": null,
      "metadata": {
        "id": "GAKZ1p1BZuOR"
      },
      "outputs": [],
      "source": [
        "y_col = ['Class0', 'Class1']"
      ]
    },
    {
      "cell_type": "code",
      "source": [
        "from keras.applications import inception_v3\n",
        "from keras.applications.inception_v3 import InceptionV3\n",
        "\n",
        "base_model = InceptionV3(weights = 'imagenet', include_top = False, input_shape=(500, 500, 3))\n",
        "base_model.layers.pop()\n",
        "base_model.layers.pop()\n",
        "base_model.layers.pop()\n",
        "base_model.layers.pop()\n",
        "for layer in base_model.layers:\n",
        "  layer.trainable = False\n",
        "# base_model.summary()"
      ],
      "metadata": {
        "colab": {
          "base_uri": "https://localhost:8080/"
        },
        "id": "HLp-guc6dZOI",
        "outputId": "1ff5d230-12e0-4bd5-dbb5-b922754ced66"
      },
      "execution_count": null,
      "outputs": [
        {
          "output_type": "stream",
          "name": "stdout",
          "text": [
            "Downloading data from https://storage.googleapis.com/tensorflow/keras-applications/inception_v3/inception_v3_weights_tf_dim_ordering_tf_kernels_notop.h5\n",
            "87916544/87910968 [==============================] - 0s 0us/step\n",
            "87924736/87910968 [==============================] - 0s 0us/step\n"
          ]
        }
      ]
    },
    {
      "cell_type": "code",
      "execution_count": null,
      "metadata": {
        "id": "F4KvPonulG7_"
      },
      "outputs": [],
      "source": [
        "def brain_model(base_model, img_shape = (500,500,3)):\n",
        "    \n",
        "    \n",
        "    # create the input layer (Same as the imageNetv2 input size)\n",
        "    inputs = tf.keras.Input(shape=img_shape) \n",
        "    \n",
        "    # Forward pass to get the output of the last pooling layer\n",
        "    X = base_model(inputs)\n",
        "    #X = Dropout(.5, img_shape)(X)\n",
        "    X = GlobalAveragePooling2D()(X)\n",
        "    X = Dropout(.25)(X)\n",
        "    # Define the new binary classification head \n",
        "    \n",
        "    X = Dense(1024, activation='relu', name='fc1')(X)\n",
        "    X = Dropout(.5)(X)\n",
        "    # X = Dense(512, activation='relu', name='fc2')(X)\n",
        "    # X = Dropout(.25)(X)\n",
        "    X = Dense(256, activation='relu', name='fc3')(X)\n",
        "    X = Dropout(.5)(X)\n",
        "    # X = Dense(128, activation='relu', name='fc4')(X)\n",
        "    # X = Dropout(.25)(X)\n",
        "    X = Dense(64, activation='relu', name='fc5')(X)\n",
        "    X = Dropout(.5)(X)\n",
        "        \n",
        "    outputs = Dense(2,activation='softmax', name='predictions')(X)\n",
        "    model = tf.keras.Model(inputs, outputs)\n",
        "    \n",
        "    return model"
      ]
    },
    {
      "cell_type": "code",
      "execution_count": null,
      "metadata": {
        "id": "h6j8oCK-sPeN"
      },
      "outputs": [],
      "source": [
        "#Create your model using the function above\n",
        "\n",
        "model = brain_model (base_model, img_shape = (500,500,3))"
      ]
    },
    {
      "cell_type": "code",
      "execution_count": null,
      "metadata": {
        "id": "AM-6EEENqbg6",
        "colab": {
          "base_uri": "https://localhost:8080/"
        },
        "outputId": "c97f09d7-e04c-429b-ed45-654c5ae71a0f"
      },
      "outputs": [
        {
          "output_type": "stream",
          "name": "stdout",
          "text": [
            "Model: \"model\"\n",
            "_________________________________________________________________\n",
            " Layer (type)                Output Shape              Param #   \n",
            "=================================================================\n",
            " input_2 (InputLayer)        [(None, 500, 500, 3)]     0         \n",
            "                                                                 \n",
            " inception_v3 (Functional)   (None, 14, 14, 2048)      21802784  \n",
            "                                                                 \n",
            " global_average_pooling2d (G  (None, 2048)             0         \n",
            " lobalAveragePooling2D)                                          \n",
            "                                                                 \n",
            " dropout (Dropout)           (None, 2048)              0         \n",
            "                                                                 \n",
            " fc1 (Dense)                 (None, 1024)              2098176   \n",
            "                                                                 \n",
            " dropout_1 (Dropout)         (None, 1024)              0         \n",
            "                                                                 \n",
            " fc3 (Dense)                 (None, 256)               262400    \n",
            "                                                                 \n",
            " dropout_2 (Dropout)         (None, 256)               0         \n",
            "                                                                 \n",
            " fc5 (Dense)                 (None, 64)                16448     \n",
            "                                                                 \n",
            " dropout_3 (Dropout)         (None, 64)                0         \n",
            "                                                                 \n",
            " predictions (Dense)         (None, 2)                 130       \n",
            "                                                                 \n",
            "=================================================================\n",
            "Total params: 24,179,938\n",
            "Trainable params: 2,377,154\n",
            "Non-trainable params: 21,802,784\n",
            "_________________________________________________________________\n"
          ]
        }
      ],
      "source": [
        "model.summary()"
      ]
    },
    {
      "cell_type": "markdown",
      "metadata": {
        "id": "VudyisrdvdtI"
      },
      "source": [
        "## 7) Train the Network with  Tuned Parameters"
      ]
    },
    {
      "cell_type": "code",
      "source": [
        "from google.colab import drive\n",
        "drive.mount('/content/drive')"
      ],
      "metadata": {
        "colab": {
          "base_uri": "https://localhost:8080/"
        },
        "id": "_K4N35WCkc2j",
        "outputId": "56e5066e-759c-4ea3-9d20-71ede6c761d3"
      },
      "execution_count": null,
      "outputs": [
        {
          "output_type": "stream",
          "name": "stdout",
          "text": [
            "Drive already mounted at /content/drive; to attempt to forcibly remount, call drive.mount(\"/content/drive\", force_remount=True).\n"
          ]
        }
      ]
    },
    {
      "cell_type": "code",
      "execution_count": null,
      "metadata": {
        "id": "XYzQ87QARfam",
        "outputId": "132b9eaf-5999-49c5-d337-91fbd5d6aa5a",
        "colab": {
          "base_uri": "https://localhost:8080/"
        }
      },
      "outputs": [
        {
          "output_type": "stream",
          "name": "stdout",
          "text": [
            "Found 256 validated image filenames.\n"
          ]
        }
      ],
      "source": [
        "batch_size = 16\n",
        "#FOLDER_PATH = Enter the path of the folder that contains images\n",
        "data_path = \"/content/Train\" #where you extracted the zip file\n",
        "\n",
        "#Should augmentations be the same for training and validation? \n",
        "#train_aug = ImageDataGenerator(rescale=1./255, ...)\n",
        "#valid_aug = ImageDataGenerator(rescale=1./255, ...)\n",
        "\n",
        "#shuffle the data\n",
        "data = data.sample(frac=1)\n",
        "data.reset_index(drop = True, inplace = True)\n",
        "\n",
        "# train_aug = ImageDataGenerator(rescale=1./255, \n",
        "#                               #  width_shift_range=[-100,100], \n",
        "#                               #  height_shift_range=0.5,       \n",
        "#                                shear_range=0.2,\n",
        "#                                horizontal_flip=True,\n",
        "#                                vertical_flip=True,\n",
        "#                                rotation_range=90,\n",
        "#                                brightness_range=[0.2,0.05],\n",
        "#                                zoom_range=0.2\n",
        "#                                )\n",
        "\n",
        "train_aug = ImageDataGenerator(\trescale=1/255.0,\t\n",
        "                               rotation_range=20,\t\n",
        "                               zoom_range=0.05,\t\n",
        "                               width_shift_range=0.1,\t\n",
        "                               height_shift_range=0.1,\t\n",
        "                               shear_range=0.05,\t\n",
        "                               horizontal_flip=True,\t\n",
        "                               vertical_flip=True,\t\n",
        "                               fill_mode=\"nearest\")\n",
        "\n",
        "\n",
        "valid_datagen = ImageDataGenerator(rescale=1./255)\n",
        "test_aug = ImageDataGenerator(rescale=1./255)\n",
        "\n",
        "train_generator = train_aug.flow_from_dataframe(\n",
        "    dataframe=data,\n",
        "    directory=data_path,\n",
        "    x_col='Image',\n",
        "    y_col= y_col,\n",
        "    class_mode=\"raw\",\n",
        "    shuffle=True,\n",
        "    target_size=(500,500), #this will resize the image, you can change the size\n",
        "    batch_size=batch_size)\n",
        "\n",
        "\n"
      ]
    },
    {
      "cell_type": "code",
      "execution_count": null,
      "metadata": {
        "id": "PA0aOXNxZuOS"
      },
      "outputs": [],
      "source": [
        "# cd C:/Users/Asus/Downloads/cropped images/Valid"
      ]
    },
    {
      "cell_type": "code",
      "execution_count": null,
      "metadata": {
        "id": "Lbw79cYnZuOS",
        "outputId": "38f340e9-b434-4709-bea5-6d96ec44fc6e",
        "colab": {
          "base_uri": "https://localhost:8080/"
        }
      },
      "outputs": [
        {
          "output_type": "stream",
          "name": "stdout",
          "text": [
            "Found 64 validated image filenames.\n"
          ]
        }
      ],
      "source": [
        "valid_generator = test_aug.flow_from_dataframe(\n",
        "    dataframe=data1,\n",
        "    directory=\"/content/Valid\",\n",
        "    x_col='Image',\n",
        "    y_col= y_col,\n",
        "    class_mode= \"raw\",\n",
        "    target_size=(500,500), #this will resize the image, you can change the size\n",
        "    batch_size=batch_size\n",
        ")"
      ]
    },
    {
      "cell_type": "code",
      "execution_count": null,
      "metadata": {
        "id": "nAe0r6YKZuOT",
        "outputId": "6e4d6eff-48ec-45e8-c7a3-01ef4e0e3db9",
        "colab": {
          "base_uri": "https://localhost:8080/"
        }
      },
      "outputs": [
        {
          "output_type": "stream",
          "name": "stderr",
          "text": [
            "/usr/local/lib/python3.7/dist-packages/keras/optimizer_v2/adam.py:105: UserWarning: The `lr` argument is deprecated, use `learning_rate` instead.\n",
            "  super(Adam, self).__init__(name, **kwargs)\n"
          ]
        },
        {
          "output_type": "stream",
          "name": "stdout",
          "text": [
            "Epoch 1/20\n",
            "16/16 [==============================] - 35s 1s/step - loss: 0.8791 - accuracy: 0.6992 - val_loss: 0.6342 - val_accuracy: 0.7500\n",
            "Epoch 2/20\n",
            "16/16 [==============================] - 20s 1s/step - loss: 0.7235 - accuracy: 0.7578 - val_loss: 0.8147 - val_accuracy: 0.7500\n",
            "Epoch 3/20\n",
            "16/16 [==============================] - 18s 1s/step - loss: 0.6277 - accuracy: 0.7266 - val_loss: 0.5273 - val_accuracy: 0.7500\n",
            "Epoch 4/20\n",
            "16/16 [==============================] - 25s 2s/step - loss: 0.4637 - accuracy: 0.7773 - val_loss: 0.6244 - val_accuracy: 0.7500\n",
            "Epoch 5/20\n",
            "16/16 [==============================] - 21s 1s/step - loss: 0.4781 - accuracy: 0.7930 - val_loss: 0.5244 - val_accuracy: 0.7500\n",
            "Epoch 6/20\n",
            "16/16 [==============================] - 21s 1s/step - loss: 0.3397 - accuracy: 0.8477 - val_loss: 0.8467 - val_accuracy: 0.7500\n",
            "Epoch 7/20\n",
            "16/16 [==============================] - 25s 2s/step - loss: 0.3158 - accuracy: 0.8984 - val_loss: 0.9924 - val_accuracy: 0.7500\n",
            "Epoch 8/20\n",
            "16/16 [==============================] - 18s 1s/step - loss: 0.2770 - accuracy: 0.8945 - val_loss: 0.9067 - val_accuracy: 0.7500\n",
            "Epoch 9/20\n",
            "16/16 [==============================] - 20s 1s/step - loss: 0.1927 - accuracy: 0.9336 - val_loss: 0.8679 - val_accuracy: 0.7500\n",
            "Epoch 10/20\n",
            "16/16 [==============================] - 18s 1s/step - loss: 0.2158 - accuracy: 0.9375 - val_loss: 0.6717 - val_accuracy: 0.7500\n",
            "Epoch 11/20\n",
            "16/16 [==============================] - 19s 1s/step - loss: 0.1594 - accuracy: 0.9258 - val_loss: 0.8854 - val_accuracy: 0.7500\n",
            "Epoch 12/20\n",
            "16/16 [==============================] - 20s 1s/step - loss: 0.1409 - accuracy: 0.9570 - val_loss: 1.0457 - val_accuracy: 0.7500\n",
            "Epoch 13/20\n",
            "16/16 [==============================] - 18s 1s/step - loss: 0.1568 - accuracy: 0.9531 - val_loss: 1.0922 - val_accuracy: 0.7500\n",
            "Epoch 14/20\n",
            "16/16 [==============================] - 18s 1s/step - loss: 0.1422 - accuracy: 0.9453 - val_loss: 0.7484 - val_accuracy: 0.7500\n",
            "Epoch 15/20\n",
            "16/16 [==============================] - 18s 1s/step - loss: 0.1785 - accuracy: 0.9609 - val_loss: 0.7573 - val_accuracy: 0.7500\n",
            "Epoch 16/20\n",
            "16/16 [==============================] - 18s 1s/step - loss: 0.1487 - accuracy: 0.9688 - val_loss: 0.7424 - val_accuracy: 0.7500\n",
            "Epoch 17/20\n",
            "16/16 [==============================] - 18s 1s/step - loss: 0.1153 - accuracy: 0.9609 - val_loss: 1.0153 - val_accuracy: 0.7500\n",
            "Epoch 18/20\n",
            "16/16 [==============================] - 19s 1s/step - loss: 0.1300 - accuracy: 0.9727 - val_loss: 0.8015 - val_accuracy: 0.7500\n",
            "Epoch 19/20\n",
            "16/16 [==============================] - 18s 1s/step - loss: 0.1305 - accuracy: 0.9492 - val_loss: 0.7286 - val_accuracy: 0.7500\n",
            "Epoch 20/20\n",
            "16/16 [==============================] - 18s 1s/step - loss: 0.1336 - accuracy: 0.9609 - val_loss: 0.3514 - val_accuracy: 0.8125\n"
          ]
        }
      ],
      "source": [
        "callback = tf.keras.callbacks.EarlyStopping(monitor='loss', patience=5)\n",
        "optimizer = tf.keras.optimizers.Adam(lr=0.001)\n",
        "model.compile(optimizer=optimizer, loss='categorical_crossentropy', metrics=['accuracy'])\n",
        "history = model.fit(train_generator, batch_size= 16 ,epochs=25, validation_data = valid_generator, callbacks= callback)\n",
        "# history = model.fit(train_generator, batch_size= 16 ,epochs=20, validation_data = valid_generator, callbacks= callback)"
      ]
    },
    {
      "cell_type": "code",
      "execution_count": null,
      "metadata": {
        "id": "I2EBxm55ZuOU",
        "outputId": "d6e14e49-ced3-4a7c-f7d4-8d6a3ea5deb1",
        "colab": {
          "base_uri": "https://localhost:8080/",
          "height": 295
        }
      },
      "outputs": [
        {
          "output_type": "display_data",
          "data": {
            "text/plain": [
              "<Figure size 432x288 with 1 Axes>"
            ],
            "image/png": "[encoded data removed]"
          },
          "metadata": {
            "needs_background": "light"
          }
        }
      ],
      "source": [
        "plt.plot(history.history['accuracy'])\n",
        "plt.title('model accuracy')\n",
        "plt.ylabel('accuracy')\n",
        "plt.xlabel('epoch')\n",
        "#plt.legend(['8', '16', '32', '128'], loc='upper left')\n",
        "plt.savefig('Q1_multi.jpg')\n",
        "plt.show()"
      ]
    },
    {
      "cell_type": "code",
      "execution_count": null,
      "metadata": {
        "id": "tmEvkNzrZuOU",
        "outputId": "3ca6775a-e007-4d24-96bf-d9bcc31dc027",
        "colab": {
          "base_uri": "https://localhost:8080/",
          "height": 295
        }
      },
      "outputs": [
        {
          "output_type": "display_data",
          "data": {
            "text/plain": [
              "<Figure size 432x288 with 1 Axes>"
            ],
            "image/png": "[encoded data removed]"
          },
          "metadata": {
            "needs_background": "light"
          }
        }
      ],
      "source": [
        "plt.plot(history.history['loss'])\n",
        "plt.title('model loss')\n",
        "plt.ylabel('accuracy')\n",
        "plt.xlabel('epoch')\n",
        "#plt.legend(['8', '16', '32', '128'], loc='upper left')\n",
        "plt.savefig('Q1_multi.jpg')\n",
        "plt.show()"
      ]
    },
    {
      "cell_type": "code",
      "execution_count": null,
      "metadata": {
        "id": "xxo2z6CYZuOT",
        "outputId": "7eb17e56-49c0-4f50-dd0c-d6e7ee292357",
        "colab": {
          "base_uri": "https://localhost:8080/"
        }
      },
      "outputs": [
        {
          "output_type": "stream",
          "name": "stdout",
          "text": [
            "Found 80 validated image filenames.\n"
          ]
        }
      ],
      "source": [
        "test_generator = test_aug.flow_from_dataframe(\n",
        "    dataframe=data2,\n",
        "    directory=\"/content/Test\",\n",
        "    x_col='Image',\n",
        "    y_col= y_col,\n",
        "    shuffle=True,\n",
        "    class_mode= \"raw\",\n",
        "    target_size=(500,500), #this will resize the image, you can change the size\n",
        "    batch_size=batch_size\n",
        ")"
      ]
    },
    {
      "cell_type": "code",
      "execution_count": null,
      "metadata": {
        "id": "pLo9rnpzZuOU",
        "outputId": "2f924a1d-21f1-4aaf-c322-8fc3fc5a3d17",
        "colab": {
          "base_uri": "https://localhost:8080/"
        }
      },
      "outputs": [
        {
          "output_type": "execute_result",
          "data": {
            "text/plain": [
              "0.775"
            ]
          },
          "metadata": {},
          "execution_count": 20
        }
      ],
      "source": [
        "from sklearn.metrics import accuracy_score\n",
        "from sklearn import metrics\n",
        "\n",
        "y_predict = model.predict(test_generator)\n",
        "\n",
        "y_predict = y_predict.argmax(-1)\n",
        "accuracy_score(data3['label'],y_predict)\n",
        "    \n"
      ]
    },
    {
      "cell_type": "markdown",
      "metadata": {
        "id": "ngVLhQAOZuOU"
      },
      "source": [
        ""
      ]
    }
  ],
  "metadata": {
    "colab": {
      "collapsed_sections": [],
      "name": "Acc-78-class2-Training_brain.ipynb",
      "provenance": [],
      "include_colab_link": true
    },
    "kernelspec": {
      "display_name": "Python 3",
      "name": "python3"
    },
    "language_info": {
      "codemirror_mode": {
        "name": "ipython",
        "version": 3
      },
      "file_extension": ".py",
      "mimetype": "text/x-python",
      "name": "python",
      "nbconvert_exporter": "python",
      "pygments_lexer": "ipython3",
      "version": "3.8.13"
    },
    "accelerator": "GPU"
  },
  "nbformat": 4,
  "nbformat_minor": 0
}